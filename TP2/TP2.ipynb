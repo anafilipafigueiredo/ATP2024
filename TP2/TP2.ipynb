{
 "cells": [
  {
   "cell_type": "code",
   "execution_count": 5,
   "metadata": {},
   "outputs": [
    {
     "name": "stdout",
     "output_type": "stream",
     "text": [
      "Escolha uma opção de jogo:\n",
      "1. O computador tenta adivinhar o número.\n",
      "2. Eu tento adivinhar o número do computador.\n",
      "O número que pensei é maior\n",
      "O número que pensei é maior\n",
      "O número que pensei é maior\n",
      "O número que pensei é maior\n",
      "O número que pensei é maior\n",
      "O número que pensei é maior\n",
      "O número que pensei é maior\n",
      "Perdeste. porque ficaste sem tentativas!\n"
     ]
    }
   ],
   "source": [
    "# Resolver na sessão\n",
    "def escolhas():\n",
    "    print(\"Escolha uma opção de jogo:\")\n",
    "    print(\"1. O computador tenta adivinhar o número.\")\n",
    "    print(\"2. Eu tento adivinhar o número do computador.\")\n",
    "    \n",
    "    escolha = input(\"Digite o número da sua escolha: \")\n",
    "\n",
    "    if escolha == '1':\n",
    "        computador_adivinha()\n",
    "    elif escolha == '2':\n",
    "        jogador_adivinha()\n",
    "    else:\n",
    "        print(\"Opção inválida. Por favor, escolha 1 ou 2.\")\n",
    "\n",
    "def computador_adivinha():\n",
    "    print(\"Pense em um número entre 1 e 100, e o computador vai tentar adivinhar!\")\n",
    "    limite_inferior = 1\n",
    "    limite_superior = 100\n",
    "    tentativas = 0\n",
    "    max_tentativas = 7\n",
    "\n",
    "    while tentativas < max_tentativas:\n",
    "        palpite = (limite_inferior + limite_superior) // 2  # Escolha usando divisão binária\n",
    "        tentativas = tentativas + 1  # Incrementa tentativas\n",
    "        print(\"Tentativa\", tentativas, \": O computador tenta:\", palpite)\n",
    "        resposta = input(\"O número é (m)enor, (M)aior ou (C)orreto? \")\n",
    "\n",
    "        if resposta == 'c' or resposta == 'C':\n",
    "            print(\"O computador acertou em\", tentativas, \"tentativas!\")\n",
    "            tentativas = max_tentativas  # Força o loop a terminar\n",
    "        elif resposta == 'm':\n",
    "            limite_superior = palpite - 1  # Reduz o limite superior\n",
    "        elif resposta == 'M':\n",
    "            limite_inferior = palpite + 1  # Aumenta o limite inferior\n",
    "            print(\"Resposta inválida, por favor responda com 'm', 'M' ou 'C'.\")\n",
    "        if tentativas == max_tentativas:\n",
    "            print(\"O computador não conseguiu adivinhar em 7 tentativas!\")\n",
    "\n",
    "def jogador_adivinha():\n",
    "    import random\n",
    "    N = (random.randint(0,100)) \n",
    "    R = int(input (\"Qual o número que pensei?\"))\n",
    "    T = 1\n",
    "    while (N != R) and (T <= 7):\n",
    "        if (N < R):\n",
    "            print (\"O número que pensei é menor\")\n",
    "        if (N > R):\n",
    "            print (\"O número que pensei é maior\")\n",
    "        R = int(input(\"Qual o número que pensei?\"))\n",
    "        T = T + 1\n",
    "    if T > 7:\n",
    "        print(\"Perdeste. porque ficaste sem tentativas!\")\n",
    "    else:\n",
    "        print (\"Acertou! O seu número de tentativas foi\", T)\n",
    "\n",
    "if __name__ ==\"__main__\":\n",
    "    escolhas()    \n"
   ]
  }
 ],
 "metadata": {
  "kernelspec": {
   "display_name": "Python 3",
   "language": "python",
   "name": "python3"
  },
  "language_info": {
   "codemirror_mode": {
    "name": "ipython",
    "version": 3
   },
   "file_extension": ".py",
   "mimetype": "text/x-python",
   "name": "python",
   "nbconvert_exporter": "python",
   "pygments_lexer": "ipython3",
   "version": "3.12.6"
  }
 },
 "nbformat": 4,
 "nbformat_minor": 2
}
